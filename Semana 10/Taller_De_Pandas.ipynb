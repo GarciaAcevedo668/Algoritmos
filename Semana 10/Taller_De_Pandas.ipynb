{
  "cells": [
    {
      "cell_type": "markdown",
      "metadata": {
        "id": "qenHNw6vMlK6"
      },
      "source": [
        "#Taller Pandas: Operaciones con Pandas\n",
        "\n",
        "<img src=\"https://upload.wikimedia.org/wikipedia/commons/thumb/e/ed/Pandas_logo.svg/1200px-Pandas_logo.svg.png\" width=\"50%\" style=\"text-align:center\">\n",
        "\n",
        "---"
      ]
    },
    {
      "cell_type": "code",
      "execution_count": null,
      "metadata": {
        "id": "WM2P_37yNGPr",
        "outputId": "6b67f63b-417c-45ef-d581-0c7c3cc65132"
      },
      "outputs": [
        {
          "name": "stdout",
          "output_type": "stream",
          "text": [
            "<class 'pandas.core.frame.DataFrame'>\n",
            "Index: 1122 entries, 404 to 103\n",
            "Data columns (total 5 columns):\n",
            " #   Column           Non-Null Count  Dtype \n",
            "---  ------           --------------  ----- \n",
            " 0   nombre           1122 non-null   object\n",
            " 1   poblaciónUrbana  1122 non-null   int64 \n",
            " 2   poblaciónRural   1122 non-null   int64 \n",
            " 3   departamento     1122 non-null   object\n",
            " 4   esCapital        1122 non-null   int64 \n",
            "dtypes: int64(3), object(2)\n",
            "memory usage: 52.6+ KB\n"
          ]
        }
      ],
      "source": [
        "# Vamos a crear el DataFrame a partir de los datos de los municipios de Colombia\n",
        "import pandas as pd\n",
        "import math\n",
        "\n",
        "muns = pd.read_csv(\"https://raw.githubusercontent.com/BrayanTorres2/Algoritmos-y-programacion/refs/heads/main/Data/municipios.csv\", index_col=0)\n",
        "muns.info()"
      ]
    },
    {
      "cell_type": "code",
      "execution_count": null,
      "metadata": {
        "id": "e5cxWltYQmPX"
      },
      "outputs": [],
      "source": [
        "# Presentar la información de los primeros 5 municipios del dataframe\n",
        "---POR HACER---"
      ]
    },
    {
      "cell_type": "code",
      "execution_count": null,
      "metadata": {
        "id": "00f31GRCRBJL"
      },
      "outputs": [],
      "source": [
        "# Presente la estadística descriptiva de la información del dataframe\n",
        "--- POR HACER ----"
      ]
    },
    {
      "cell_type": "code",
      "execution_count": null,
      "metadata": {
        "id": "r2puX6jFOFph"
      },
      "outputs": [],
      "source": [
        "# Hallar la cantidad de municipios en el DataFrame\n",
        "num_municipios = ---ESCRIBA AQUI----\n",
        "\n",
        "assert num_municipios == 1122\n",
        "\n",
        "print(\"Cantidad de municipios =\", num_municipios)"
      ]
    },
    {
      "cell_type": "code",
      "execution_count": null,
      "metadata": {
        "id": "IFmPyM2eOOsl"
      },
      "outputs": [],
      "source": [
        "# Determinar el promedio de la población rural de todos los municipios del país\n",
        "prom = --- POR HACER ---\n",
        "\n",
        "assert math.isclose(10198.901961, prom, rel_tol=1e-6)\n",
        "print(\"Prueba superada 💪🏽\")"
      ]
    },
    {
      "cell_type": "code",
      "source": [
        "prom = muns.poblaciónRural.mean()\n"
      ],
      "metadata": {
        "id": "wiLa25rCxW39"
      },
      "execution_count": null,
      "outputs": []
    },
    {
      "cell_type": "code",
      "execution_count": null,
      "metadata": {
        "id": "0KypXfWWPq3Y"
      },
      "outputs": [],
      "source": [
        "# Halle la cantidad total de municipio del departamento de Amazonas\n",
        "n = --- POR HACER ---\n",
        "\n",
        "print(f\"Hay {n} municipios en Amazonas\")\n",
        "assert n == 11\n",
        "print(\"Prueba superada 💪🏽\")"
      ]
    },
    {
      "cell_type": "code",
      "execution_count": null,
      "metadata": {
        "id": "zYt_N7cVQQs7"
      },
      "outputs": [],
      "source": [
        "# Escriba una función que reciba el nombre de un departamento y que retorne cuántos municipios hay\n",
        "# en el departamento con ese nombre.\n",
        "def municipios_departamento(muns: pd.DataFrame, nombre: str) -> int:\n",
        "    n = --- POR HACER ---\n",
        "    return n\n",
        "\n",
        "# Pruebas de la función anterior\n",
        "assert municipios_departamento(muns, \"Cundinamarca\") == 117\n",
        "assert municipios_departamento(muns, \"Boyacá\") == 123\n",
        "assert municipios_departamento(muns, \"Vichada\") == 4\n",
        "print(\"Prueba superada 💪🏽\")"
      ]
    },
    {
      "cell_type": "code",
      "execution_count": null,
      "metadata": {
        "id": "HtjzXj3uRE_G"
      },
      "outputs": [],
      "source": [
        "# Escriba una expresión que permita encontrar los nombres de los municipios que tienen\n",
        "# menos de 500 habitantes en la población rural\n",
        "m = --- POR HACER ---\n",
        "\n",
        "# Prueba\n",
        "assert m.sort_values().to_list() == ['La Guadalupe', 'Santa Lucía', 'Soplaviento', 'Suan']\n",
        "print(\"Prueba superada 💪🏽\")"
      ]
    },
    {
      "cell_type": "code",
      "execution_count": null,
      "metadata": {
        "id": "zjcXOdWyA8-5"
      },
      "outputs": [],
      "source": [
        "# Cual es la suma total de la población urbana de todos los municipios\n",
        "pob_urb = --- POR HACER ---\n",
        "\n",
        "# Prueba\n",
        "assert pob_urb == 37_740_751\n",
        "print(\"Prueba superada 💪🏽\")"
      ]
    },
    {
      "cell_type": "code",
      "execution_count": null,
      "metadata": {
        "id": "d6Pt4uzlCqBT"
      },
      "outputs": [],
      "source": [
        "# Hallar la suma de la población urbana de los municipios de los departamentos\n",
        "# del eje cafetero: Caldas, Quindio o Risaralda\n",
        "pob_eje_cafetero = --- POR HACER ---\n",
        "\n",
        "# Prueba\n",
        "assert pob_eje_cafetero == 1_471_055\n",
        "print(\"Prueba superada 💪🏽\")"
      ]
    },
    {
      "cell_type": "code",
      "execution_count": null,
      "metadata": {
        "id": "8hsf6HZ-THGp"
      },
      "outputs": [],
      "source": [
        "# Encontrar el nombre del municipio que es la capital (esCapital == 1) del departamento de Casanare\n",
        "--- POR HACER ---\n"
      ]
    },
    {
      "cell_type": "code",
      "execution_count": null,
      "metadata": {
        "id": "8HR_nr40EtHe"
      },
      "outputs": [],
      "source": [
        "# Encontrar cuantos municipios tienen una población urbana inferior al promedio\n",
        "# de la población urbama de todo el pais\n",
        "prom_poblacion_urbana = --- POR HACER ---\n",
        "cant_muns_pobl_inf_prom = --- POR HACER ---\n",
        "\n",
        "# Prueba\n",
        "assert cant_muns_pobl_inf_prom == 998\n",
        "print(\"Prueba superada 💪🏽\")"
      ]
    },
    {
      "cell_type": "code",
      "execution_count": null,
      "metadata": {
        "id": "-Wz3v-gs7FFn"
      },
      "outputs": [],
      "source": [
        "# Presentar el nombre y problación urbana de los municipios cuya población urbana esté entre el millón y los tres millones\n",
        "# de habitantes.\n",
        "--- POR HACER ---"
      ]
    },
    {
      "cell_type": "code",
      "execution_count": null,
      "metadata": {
        "id": "ja3JFZ2NV3uR"
      },
      "outputs": [],
      "source": [
        "# Presentar toda la información de aquellos municipios donde la población rural supere a la población urbana\n",
        "--- POR HACER ---"
      ]
    },
    {
      "cell_type": "code",
      "execution_count": null,
      "metadata": {
        "id": "VlKO9x3a7GYe"
      },
      "outputs": [],
      "source": [
        "# Cuantas capitales hay en el dataframe\n",
        "--- POR HACER ---"
      ]
    },
    {
      "cell_type": "code",
      "execution_count": null,
      "metadata": {
        "id": "6J_GRk6S7_ve"
      },
      "outputs": [],
      "source": [
        "# Determinar cuántos capitales tiene una población inferior a los 100 mil habitantes\n",
        "--- POR HACER ---"
      ]
    },
    {
      "cell_type": "code",
      "source": [
        "a=muns[(muns.esCapital==1) &|(muns.poblacion_urbana<100_1000)]\n",
        "a"
      ],
      "metadata": {
        "id": "R7t0MnCayz2u",
        "outputId": "e19b6a7e-99d6-4667-f9fb-4dad24c9f4a4",
        "colab": {
          "base_uri": "https://localhost:8080/",
          "height": 106
        }
      },
      "execution_count": 4,
      "outputs": [
        {
          "output_type": "error",
          "ename": "SyntaxError",
          "evalue": "'[' was never closed (<ipython-input-4-aca1a6e0b0a5>, line 1)",
          "traceback": [
            "\u001b[0;36m  File \u001b[0;32m\"<ipython-input-4-aca1a6e0b0a5>\"\u001b[0;36m, line \u001b[0;32m1\u001b[0m\n\u001b[0;31m    nums[(muns.esCapital==1)\u001b[0m\n\u001b[0m        ^\u001b[0m\n\u001b[0;31mSyntaxError\u001b[0m\u001b[0;31m:\u001b[0m '[' was never closed\n"
          ]
        }
      ]
    }
  ],
  "metadata": {
    "colab": {
      "provenance": []
    },
    "kernelspec": {
      "display_name": "Python 3",
      "name": "python3"
    },
    "language_info": {
      "codemirror_mode": {
        "name": "ipython",
        "version": 3
      },
      "file_extension": ".py",
      "mimetype": "text/x-python",
      "name": "python",
      "nbconvert_exporter": "python",
      "pygments_lexer": "ipython3",
      "version": "3.11.9"
    }
  },
  "nbformat": 4,
  "nbformat_minor": 0
}